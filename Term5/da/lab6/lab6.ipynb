{
 "cells": [
  {
   "cell_type": "code",
   "execution_count": 1,
   "id": "a62513cd-7173-4f0a-9d4c-b5431fa46abc",
   "metadata": {},
   "outputs": [],
   "source": [
    "import random\n",
    "import numpy as np\n",
    "import torch\n",
    "\n",
    "random.seed(0)\n",
    "np.random.seed(0)\n",
    "torch.manual_seed(0)\n",
    "torch.cuda.manual_seed(0)\n",
    "torch.backends.cudnn.deterministic = True\n",
    "torch.backends.cuda.deterministic = True"
   ]
  },
  {
   "cell_type": "markdown",
   "id": "69ccb7ce-e642-4dd1-9e62-58096d465340",
   "metadata": {},
   "source": [
    "Скачиваем датасет"
   ]
  },
  {
   "cell_type": "code",
   "execution_count": 2,
   "id": "026c14d0-1f07-4141-81a0-417e6b86387d",
   "metadata": {},
   "outputs": [],
   "source": [
    "from torchvision.datasets import MNIST\n",
    "from torchvision.transforms import transforms\n",
    "\n",
    "grayscale_to_rgb = transforms.Compose([\n",
    "    transforms.Resize(224),\n",
    "    transforms.Grayscale(3),\n",
    "    transforms.ToTensor(),\n",
    "])\n",
    "\n",
    "basic_transform = transforms.Compose([\n",
    "    grayscale_to_rgb\n",
    "])\n",
    "\n",
    "train_dataset = MNIST(\n",
    "    './MNIST/train', \n",
    "    download = True, \n",
    "    train = True,\n",
    "    transform=basic_transform)\n",
    "test_dataset = MNIST(\n",
    "    './MNIST/test', \n",
    "    download = True, \n",
    "    train = False,\n",
    "    transform=grayscale_to_rgb)\n",
    "\n",
    "# train_ids = torch.arange(1_000)\n",
    "# test_ids = torch.arange(100)\n",
    "\n",
    "# train_dataset = torch.utils.data.Subset(train_dataset, train_ids)\n",
    "# test_dataset = torch.utils.data.Subset(test_dataset, test_ids)"
   ]
  },
  {
   "cell_type": "code",
   "execution_count": 3,
   "id": "0c9b685b-799d-4b0b-a81d-9613943500bf",
   "metadata": {},
   "outputs": [],
   "source": [
    "from torch.utils.data import DataLoader\n",
    "\n",
    "dataloaders = {\n",
    "    'train': DataLoader(\n",
    "        dataset=train_dataset,\n",
    "        batch_size=128,\n",
    "        shuffle=True,\n",
    "    ),\n",
    "    'val': DataLoader(\n",
    "        dataset=test_dataset,\n",
    "        batch_size=128,\n",
    "        shuffle=True,\n",
    "    ),\n",
    "}"
   ]
  },
  {
   "cell_type": "code",
   "execution_count": 4,
   "id": "ddeff017-1df4-498a-bcf4-9dd83bd0b020",
   "metadata": {},
   "outputs": [],
   "source": [
    "from torch import nn\n",
    "from torchvision import models\n",
    "\n",
    "class MNISTClassifier(nn.Module):\n",
    "    def __init__(self):\n",
    "        super(MNISTClassifier, self).__init__()\n",
    "        self.model = models.alexnet(pretrained=True)\n",
    "        \n",
    "        for param in self.model.parameters():\n",
    "            param.required_grad = False\n",
    "            \n",
    "        self.fc1 = nn.Sequential(\n",
    "            nn.Linear(1000, 64),\n",
    "            nn.ReLU()\n",
    "        )\n",
    "        \n",
    "        self.fc2 = nn.Sequential(\n",
    "            nn.Dropout(0.25),\n",
    "            nn.Linear(64, 10)\n",
    "        )\n",
    "    \n",
    "    def embed(self, x):\n",
    "        return self.fc1(self.model(x))\n",
    "    \n",
    "    def forward(self, x):\n",
    "        alexnet_out = self.embed(x)\n",
    "        return self.fc2(alexnet_out)"
   ]
  },
  {
   "cell_type": "code",
   "execution_count": 5,
   "id": "008f5cda-607a-4438-b6a2-80cf7dffa168",
   "metadata": {},
   "outputs": [],
   "source": [
    "model = MNISTClassifier()\n",
    "\n",
    "loss_function = nn.CrossEntropyLoss()\n",
    "optimizer = torch.optim.Adam(model.parameters(), amsgrad=True, lr=1e-4)"
   ]
  },
  {
   "cell_type": "code",
   "execution_count": 6,
   "id": "7a585a35-60a3-45dd-826b-6c190d689c72",
   "metadata": {},
   "outputs": [],
   "source": [
    "from torch.utils.tensorboard import SummaryWriter\n",
    "\n",
    "writer = SummaryWriter('runs/MNIST')"
   ]
  },
  {
   "cell_type": "code",
   "execution_count": 7,
   "id": "65d9d67d-a29d-4d32-b635-23fb1fa4d308",
   "metadata": {},
   "outputs": [],
   "source": [
    "import torchvision\n",
    "\n",
    "images, labels = next(iter(dataloaders['train']))\n",
    "\n",
    "img_grid = torchvision.utils.make_grid(images)\n",
    "writer.add_image('MNIST', img_grid)\n",
    "\n",
    "writer.add_graph(model, images)"
   ]
  },
  {
   "cell_type": "code",
   "execution_count": 8,
   "id": "c4464d35-c980-4658-8ffe-9421cd0205d5",
   "metadata": {},
   "outputs": [
    {
     "data": {
      "application/vnd.jupyter.widget-view+json": {
       "model_id": "2c443af4bf434123baa45a327d2ac668",
       "version_major": 2,
       "version_minor": 0
      },
      "text/plain": [
       "Whole pipeline:   0%|          | 0/4 [00:00<?, ?it/s]"
      ]
     },
     "metadata": {},
     "output_type": "display_data"
    },
    {
     "data": {
      "application/vnd.jupyter.widget-view+json": {
       "model_id": "d380812afc284c54ba32a304e0d5873d",
       "version_major": 2,
       "version_minor": 0
      },
      "text/plain": [
       "Epoch: 1. Phase: train:   0%|          | 0/469 [00:00<?, ?it/s]"
      ]
     },
     "metadata": {},
     "output_type": "display_data"
    },
    {
     "data": {
      "application/vnd.jupyter.widget-view+json": {
       "model_id": "263da729cbb84ee0a880d4cb11c4d695",
       "version_major": 2,
       "version_minor": 0
      },
      "text/plain": [
       "Epoch: 1. Phase: val:   0%|          | 0/79 [00:00<?, ?it/s]"
      ]
     },
     "metadata": {},
     "output_type": "display_data"
    },
    {
     "data": {
      "application/vnd.jupyter.widget-view+json": {
       "model_id": "f814790fac184a5a8a2c0ecf8e54923c",
       "version_major": 2,
       "version_minor": 0
      },
      "text/plain": [
       "Epoch: 2. Phase: train:   0%|          | 0/469 [00:00<?, ?it/s]"
      ]
     },
     "metadata": {},
     "output_type": "display_data"
    },
    {
     "data": {
      "application/vnd.jupyter.widget-view+json": {
       "model_id": "9cf5370a62ea4a1da2ded243d9060c43",
       "version_major": 2,
       "version_minor": 0
      },
      "text/plain": [
       "Epoch: 2. Phase: val:   0%|          | 0/79 [00:00<?, ?it/s]"
      ]
     },
     "metadata": {},
     "output_type": "display_data"
    },
    {
     "data": {
      "application/vnd.jupyter.widget-view+json": {
       "model_id": "ebd0be1480b74b54b09e06303d200fdc",
       "version_major": 2,
       "version_minor": 0
      },
      "text/plain": [
       "Epoch: 3. Phase: train:   0%|          | 0/469 [00:00<?, ?it/s]"
      ]
     },
     "metadata": {},
     "output_type": "display_data"
    },
    {
     "data": {
      "application/vnd.jupyter.widget-view+json": {
       "model_id": "ec44b377388a4a4eb0c1e39b65e71403",
       "version_major": 2,
       "version_minor": 0
      },
      "text/plain": [
       "Epoch: 3. Phase: val:   0%|          | 0/79 [00:00<?, ?it/s]"
      ]
     },
     "metadata": {},
     "output_type": "display_data"
    },
    {
     "data": {
      "application/vnd.jupyter.widget-view+json": {
       "model_id": "fa56beb0264a4eb38f2d64f287b2453c",
       "version_major": 2,
       "version_minor": 0
      },
      "text/plain": [
       "Epoch: 4. Phase: train:   0%|          | 0/469 [00:00<?, ?it/s]"
      ]
     },
     "metadata": {},
     "output_type": "display_data"
    },
    {
     "data": {
      "application/vnd.jupyter.widget-view+json": {
       "model_id": "5ddf8bc5615a4c12965219314084db52",
       "version_major": 2,
       "version_minor": 0
      },
      "text/plain": [
       "Epoch: 4. Phase: val:   0%|          | 0/79 [00:00<?, ?it/s]"
      ]
     },
     "metadata": {},
     "output_type": "display_data"
    }
   ],
   "source": [
    "from tqdm.notebook import tqdm, trange\n",
    "\n",
    "EPOCH_NUM = 4\n",
    "\n",
    "model = model.to('cuda')\n",
    "i = 0\n",
    "    \n",
    "for epoch in trange(EPOCH_NUM, desc='Whole pipeline'):\n",
    "\n",
    "    for phase in ['train', 'val']:\n",
    "        dataloader = dataloaders[phase]\n",
    "        \n",
    "        if phase == 'train':\n",
    "            model.train() \n",
    "        elif phase == 'val':\n",
    "            model.eval()\n",
    "        \n",
    "        running_loss = 0.\n",
    "        running_acc  = 0.\n",
    "        \n",
    "        for (X_batch, y_batch) in tqdm(dataloader, desc=f'Epoch: {epoch + 1}. Phase: {phase}'):\n",
    "            optimizer.zero_grad()\n",
    "        \n",
    "            X_batch = X_batch.to('cuda')\n",
    "            y_batch = y_batch.to('cuda')\n",
    "        \n",
    "            with torch.set_grad_enabled(phase == 'train'):\n",
    "                y_pred = model(X_batch)\n",
    "                \n",
    "                loss_value = loss_function(y_pred, y_batch)\n",
    "                y_pred_class = y_pred.argmax(dim=1)\n",
    "                \n",
    "                if phase == 'train':\n",
    "                    loss_value.backward()\n",
    "                    optimizer.step()\n",
    "                   \n",
    "            running_loss += loss_value.item()\n",
    "            running_acc += (y_pred_class == y_batch.data).float().mean().data.cpu().numpy()\n",
    "        \n",
    "            N = 20\n",
    "            if i % N == N - 1:\n",
    "                writer.add_scalar('loss', running_loss / N, i)\n",
    "                running_loss = 0.\n",
    "\n",
    "                writer.add_scalar('accuracy', running_acc / N, i)\n",
    "                running_acc = 0.\n",
    "            i += 1"
   ]
  },
  {
   "cell_type": "code",
   "execution_count": 9,
   "id": "93437041-2ce9-415b-8d6b-f53405a534ed",
   "metadata": {},
   "outputs": [],
   "source": [
    "images, labels = next(iter(DataLoader(test_dataset, batch_size=256, shuffle=True)))\n",
    "\n",
    "images = images.to('cuda')\n",
    "writer.add_embedding(\n",
    "    model.embed(images),\n",
    "    metadata=[str(i) for i in labels],\n",
    "    label_img=images)"
   ]
  },
  {
   "cell_type": "code",
   "execution_count": 10,
   "id": "9453ba9c-b0bb-4381-a48a-5bd2a687e6ea",
   "metadata": {},
   "outputs": [],
   "source": [
    "writer.close()"
   ]
  },
  {
   "cell_type": "code",
   "execution_count": null,
   "id": "211c803d-341e-4277-8e35-da7e5691a2a4",
   "metadata": {},
   "outputs": [],
   "source": []
  }
 ],
 "metadata": {
  "kernelspec": {
   "display_name": "Python 3 (ipykernel)",
   "language": "python",
   "name": "python3"
  },
  "language_info": {
   "codemirror_mode": {
    "name": "ipython",
    "version": 3
   },
   "file_extension": ".py",
   "mimetype": "text/x-python",
   "name": "python",
   "nbconvert_exporter": "python",
   "pygments_lexer": "ipython3",
   "version": "3.8.12"
  }
 },
 "nbformat": 4,
 "nbformat_minor": 5
}
