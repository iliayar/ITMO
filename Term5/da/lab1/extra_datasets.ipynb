{
 "cells": [
  {
   "cell_type": "markdown",
   "id": "radical-essex",
   "metadata": {},
   "source": [
    "- https://www.kaggle.com/knightbearr/pizza-price-prediction\n",
    "- https://www.kaggle.com/jp797498e/twitter-entity-sentiment-analysis\n",
    "- https://www.kaggle.com/rishidamarla/global-adherence-to-religion-19452010\n",
    "- https://www.kaggle.com/sashankpillai/spotify-top-200-charts-20202021"
   ]
  },
  {
   "cell_type": "code",
   "execution_count": null,
   "id": "personalized-royal",
   "metadata": {},
   "outputs": [],
   "source": []
  }
 ],
 "metadata": {
  "kernelspec": {
   "display_name": "Python 3",
   "language": "python",
   "name": "python3"
  },
  "language_info": {
   "codemirror_mode": {
    "name": "ipython",
    "version": 3
   },
   "file_extension": ".py",
   "mimetype": "text/x-python",
   "name": "python",
   "nbconvert_exporter": "python",
   "pygments_lexer": "ipython3",
   "version": "3.8.2"
  }
 },
 "nbformat": 4,
 "nbformat_minor": 5
}
