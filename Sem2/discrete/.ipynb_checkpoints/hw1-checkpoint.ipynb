{
 "cells": [
  {
   "cell_type": "code",
   "execution_count": 1,
   "metadata": {},
   "outputs": [],
   "source": [
    "# Task 67"
   ]
  },
  {
   "cell_type": "code",
   "execution_count": 2,
   "metadata": {},
   "outputs": [],
   "source": [
    "P = Matrix([[0,1/2,1/2,0,0],[0,1/2,1/2,0,0],[0,1/2,0,1/2,0],[0,1/2,0,0,1/2],[0,0,0,0,1]])\n",
    "Q = Matrix([[0,1/2,1/2,0],[0,1/2,1/2,0],[0,1/2,0,1/2],[0,1/2,0,0]])\n",
    "R = Matrix([[0],[0],[0],[1/2]])"
   ]
  },
  {
   "cell_type": "code",
   "execution_count": 3,
   "metadata": {},
   "outputs": [],
   "source": [
    "I = Matrix.identity(4)\n",
    "b = [Matrix([[1,0,0,0]])]"
   ]
  },
  {
   "cell_type": "code",
   "execution_count": 4,
   "metadata": {},
   "outputs": [],
   "source": [
    "N = (I - Q)^(-1)"
   ]
  },
  {
   "cell_type": "code",
   "execution_count": 5,
   "metadata": {},
   "outputs": [
    {
     "data": {
      "text/plain": [
       "[14]"
      ]
     },
     "execution_count": 5,
     "metadata": {},
     "output_type": "execute_result"
    }
   ],
   "source": [
    "b[0]*N*Matrix([[1],[1],[1],[1]])"
   ]
  },
  {
   "cell_type": "code",
   "execution_count": 6,
   "metadata": {},
   "outputs": [],
   "source": [
    "# Task 71"
   ]
  },
  {
   "cell_type": "code",
   "execution_count": 7,
   "metadata": {},
   "outputs": [],
   "source": [
    "a, b = var(\"a b\")\n",
    "n = var(\"n\")\n",
    "P = Matrix([[a, 0],[0, b]])"
   ]
  },
  {
   "cell_type": "code",
   "execution_count": 8,
   "metadata": {},
   "outputs": [
    {
     "data": {
      "text/plain": [
       "[a^n   0]\n",
       "[  0 b^n]"
      ]
     },
     "execution_count": 8,
     "metadata": {},
     "output_type": "execute_result"
    }
   ],
   "source": [
    "P^n"
   ]
  },
  {
   "cell_type": "code",
   "execution_count": 9,
   "metadata": {},
   "outputs": [],
   "source": [
    "# Task ??"
   ]
  },
  {
   "cell_type": "code",
   "execution_count": 21,
   "metadata": {},
   "outputs": [],
   "source": [
    "P = Matrix([[1,0,0,0,0,0,0,0,0,0],\n",
    "            [1/2,0,1/2,0,0,0,0,0,0,0],\n",
    "            [0,1/2,0,1/2,0,0,0,0,0,0],\n",
    "            [0,0,1/2,0,1/2,0,0,0,0,0],\n",
    "            [0,0,0,1/2,0,1/2,0,0,0,0],\n",
    "            [0,0,0,0,1/2,0,1/2,0,0,0],\n",
    "            [0,0,0,0,0,1/2,0,1/2,0,0],\n",
    "            [0,0,0,0,0,0,1/2,0,1/2,0],\n",
    "            [0,0,0,0,0,0,0,1/2,0,1/2],\n",
    "            [0,0,0,0,0,0,0,0,0,1]])\n",
    "Q = Matrix([[0,1/2,0,0,0,0,0,0],\n",
    "            [1/2,0,1/2,0,0,0,0,0],\n",
    "            [0,1/2,0,1/2,0,0,0,0],\n",
    "            [0,0,1/2,0,1/2,0,0,0],\n",
    "            [0,0,0,1/2,0,1/2,0,0],\n",
    "            [0,0,0,0,1/2,0,1/2,0],\n",
    "            [0,0,0,0,0,1/2,0,1/2],\n",
    "            [0,0,0,0,0,0,1/2,0]])\n",
    "R = Matrix([[1/2, 0],[0,0],[0,0],[0,0],[0,0],[0,0],[0,0],[0,1/2]])\n",
    "I = Matrix.identity(8)\n",
    "b = [Matrix([0,0,0,1,0,0,0,0])]"
   ]
  },
  {
   "cell_type": "code",
   "execution_count": 25,
   "metadata": {},
   "outputs": [
    {
     "data": {
      "text/plain": [
       "[   1  7/8  3/4  5/8  1/2  3/8  1/4  1/8]\n",
       "[ 7/8  7/4  3/2  5/4    1  3/4  1/2  1/4]\n",
       "[ 3/4  3/2  9/4 15/8  3/2  9/8  3/4  3/8]\n",
       "[ 5/8  5/4 15/8  5/2    2  3/2    1  1/2]\n",
       "[ 1/2    1  3/2    2  5/2 15/8  5/4  5/8]\n",
       "[ 3/8  3/4  9/8  3/2 15/8  9/4  3/2  3/4]\n",
       "[ 1/4  1/2  3/4    1  5/4  3/2  7/4  7/8]\n",
       "[ 1/8  1/4  3/8  1/2  5/8  3/4  7/8    1]"
      ]
     },
     "execution_count": 25,
     "metadata": {},
     "output_type": "execute_result"
    }
   ],
   "source": [
    "((I-Q)^(-1))"
   ]
  },
  {
   "cell_type": "code",
   "execution_count": null,
   "metadata": {},
   "outputs": [],
   "source": []
  }
 ],
 "metadata": {
  "kernelspec": {
   "display_name": "SageMath 9.0",
   "language": "sage",
   "name": "sagemath"
  },
  "language_info": {
   "codemirror_mode": {
    "name": "ipython",
    "version": 3
   },
   "file_extension": ".py",
   "mimetype": "text/x-python",
   "name": "python",
   "nbconvert_exporter": "python",
   "pygments_lexer": "ipython3",
   "version": "3.8.2"
  }
 },
 "nbformat": 4,
 "nbformat_minor": 2
}
