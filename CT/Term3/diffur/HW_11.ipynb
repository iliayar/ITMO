{
 "cells": [
  {
   "cell_type": "code",
   "execution_count": 3,
   "metadata": {},
   "outputs": [
    {
     "data": {
      "text/html": [
       "<html><script type=\"math/tex; mode=display\">\\newcommand{\\Bold}[1]{\\mathbf{#1}}-\\frac{{\\left(C L w^{2} - 1\\right)} V}{\\sqrt{{\\left(C L w^{2} - 1\\right)}^{2} R^{2} + L^{2} w^{2}}}</script></html>"
      ],
      "text/latex": [
       "\\begin{math}\n",
       "\\newcommand{\\Bold}[1]{\\mathbf{#1}}-\\frac{{\\left(C L w^{2} - 1\\right)} V}{\\sqrt{{\\left(C L w^{2} - 1\\right)}^{2} R^{2} + L^{2} w^{2}}}\n",
       "\\end{math}"
      ],
      "text/plain": [
       "-(C*L*w^2 - 1)*V/sqrt((C*L*w^2 - 1)^2*R^2 + L^2*w^2)"
      ]
     },
     "metadata": {},
     "output_type": "display_data"
    }
   ],
   "source": [
    "L, C, V, R, w = var('L C V R w')\n",
    "f = V*(1-L*C*w^2)/sqrt(L^2*w^2 + R^2*(1 - L*C*w^2)^2)\n",
    "show(f)"
   ]
  },
  {
   "cell_type": "code",
   "execution_count": 5,
   "metadata": {},
   "outputs": [
    {
     "data": {
      "text/html": [
       "<html><script type=\"math/tex; mode=display\">\\newcommand{\\Bold}[1]{\\mathbf{#1}}-\\frac{\\sqrt{C^{2} L^{2} R^{2} w^{4} - {\\left(2 \\, C L R^{2} - L^{2}\\right)} w^{2} + R^{2}} {\\left(C L^{3} V w^{3} + L^{2} V w\\right)}}{C^{4} L^{4} R^{4} w^{8} - 2 \\, {\\left(2 \\, C^{3} L^{3} R^{4} - C^{2} L^{4} R^{2}\\right)} w^{6} + {\\left(6 \\, C^{2} L^{2} R^{4} - 4 \\, C L^{3} R^{2} + L^{4}\\right)} w^{4} + R^{4} - 2 \\, {\\left(2 \\, C L R^{4} - L^{2} R^{2}\\right)} w^{2}}</script></html>"
      ],
      "text/latex": [
       "\\begin{math}\n",
       "\\newcommand{\\Bold}[1]{\\mathbf{#1}}-\\frac{\\sqrt{C^{2} L^{2} R^{2} w^{4} - {\\left(2 \\, C L R^{2} - L^{2}\\right)} w^{2} + R^{2}} {\\left(C L^{3} V w^{3} + L^{2} V w\\right)}}{C^{4} L^{4} R^{4} w^{8} - 2 \\, {\\left(2 \\, C^{3} L^{3} R^{4} - C^{2} L^{4} R^{2}\\right)} w^{6} + {\\left(6 \\, C^{2} L^{2} R^{4} - 4 \\, C L^{3} R^{2} + L^{4}\\right)} w^{4} + R^{4} - 2 \\, {\\left(2 \\, C L R^{4} - L^{2} R^{2}\\right)} w^{2}}\n",
       "\\end{math}"
      ],
      "text/plain": [
       "-sqrt(C^2*L^2*R^2*w^4 - (2*C*L*R^2 - L^2)*w^2 + R^2)*(C*L^3*V*w^3 + L^2*V*w)/(C^4*L^4*R^4*w^8 - 2*(2*C^3*L^3*R^4 - C^2*L^4*R^2)*w^6 + (6*C^2*L^2*R^4 - 4*C*L^3*R^2 + L^4)*w^4 + R^4 - 2*(2*C*L*R^4 - L^2*R^2)*w^2)"
      ]
     },
     "metadata": {},
     "output_type": "display_data"
    }
   ],
   "source": [
    "show(diff(f, w).simplify_full())"
   ]
  },
  {
   "cell_type": "code",
   "execution_count": 6,
   "metadata": {},
   "outputs": [
    {
     "data": {
      "text/plain": [
       "[w == -sqrt(-1/(C*L)), w == sqrt(-1/(C*L)), w == 0]"
      ]
     },
     "execution_count": 6,
     "metadata": {},
     "output_type": "execute_result"
    }
   ],
   "source": [
    "solve(diff(f, w) == 0, w)"
   ]
  },
  {
   "cell_type": "code",
   "execution_count": 26,
   "metadata": {},
   "outputs": [
    {
     "data": {
      "text/html": [
       "<html><script type=\"math/tex; mode=display\">\\newcommand{\\Bold}[1]{\\mathbf{#1}}1</script></html>"
      ],
      "text/latex": [
       "\\begin{math}\n",
       "\\newcommand{\\Bold}[1]{\\mathbf{#1}}1\n",
       "\\end{math}"
      ],
      "text/plain": [
       "1"
      ]
     },
     "metadata": {},
     "output_type": "display_data"
    }
   ],
   "source": [
    "show(f(w = 0, L = 1, V = 1, R = 1, C = -1))"
   ]
  },
  {
   "cell_type": "code",
   "execution_count": 31,
   "metadata": {},
   "outputs": [
    {
     "data": {
      "text/html": [
       "<html><script type=\"math/tex; mode=display\">\\newcommand{\\Bold}[1]{\\mathbf{#1}}\\frac{2}{\\sqrt{3}}</script></html>"
      ],
      "text/latex": [
       "\\begin{math}\n",
       "\\newcommand{\\Bold}[1]{\\mathbf{#1}}\\frac{2}{\\sqrt{3}}\n",
       "\\end{math}"
      ],
      "text/plain": [
       "2/sqrt(3)"
      ]
     },
     "metadata": {},
     "output_type": "display_data"
    }
   ],
   "source": [
    "show(f(w = sqrt(-1/1/1), L = 1, V = 1, R = 1, C = 1))"
   ]
  },
  {
   "cell_type": "code",
   "execution_count": 55,
   "metadata": {},
   "outputs": [
    {
     "data": {
      "image/png": "[encoded data removed]",
      "text/plain": [
       "Graphics object consisting of 1 graphics primitive"
      ]
     },
     "execution_count": 55,
     "metadata": {},
     "output_type": "execute_result"
    }
   ],
   "source": [
    "plot(f(C = 1, V = 5, R = 1, L = 1))"
   ]
  },
  {
   "cell_type": "code",
   "execution_count": null,
   "metadata": {},
   "outputs": [],
   "source": []
  }
 ],
 "metadata": {
  "kernelspec": {
   "display_name": "SageMath 9.2",
   "language": "sage",
   "name": "sagemath"
  },
  "language_info": {
   "codemirror_mode": {
    "name": "ipython",
    "version": 3
   },
   "file_extension": ".py",
   "mimetype": "text/x-python",
   "name": "python",
   "nbconvert_exporter": "python",
   "pygments_lexer": "ipython3",
   "version": "3.9.0"
  }
 },
 "nbformat": 4,
 "nbformat_minor": 4
}
