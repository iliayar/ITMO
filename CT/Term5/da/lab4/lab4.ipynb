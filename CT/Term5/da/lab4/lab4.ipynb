{
 "cells": [
  {
   "cell_type": "code",
   "execution_count": 4,
   "id": "c13be401-e15f-46e6-8fb6-f69e7bf28247",
   "metadata": {},
   "outputs": [],
   "source": [
    "import pandas as pd"
   ]
  },
  {
   "cell_type": "code",
   "execution_count": 5,
   "id": "2c721533-6b78-4e29-bd5a-b5fce4dbd2f3",
   "metadata": {},
   "outputs": [],
   "source": [
    "df = pd.read_csv('gps/anon_gps_tracks_with_dive.csv')"
   ]
  },
  {
   "cell_type": "code",
   "execution_count": 6,
   "id": "c23e3c71-51ab-4c8c-95c5-9c7c9849a7f5",
   "metadata": {},
   "outputs": [
    {
     "data": {
      "text/html": [
       "<div>\n",
       "<style scoped>\n",
       "    .dataframe tbody tr th:only-of-type {\n",
       "        vertical-align: middle;\n",
       "    }\n",
       "\n",
       "    .dataframe tbody tr th {\n",
       "        vertical-align: top;\n",
       "    }\n",
       "\n",
       "    .dataframe thead th {\n",
       "        text-align: right;\n",
       "    }\n",
       "</style>\n",
       "<table border=\"1\" class=\"dataframe\">\n",
       "  <thead>\n",
       "    <tr style=\"text-align: right;\">\n",
       "      <th></th>\n",
       "      <th>Unnamed: 0</th>\n",
       "      <th>lat</th>\n",
       "      <th>lon</th>\n",
       "      <th>alt</th>\n",
       "      <th>unix</th>\n",
       "      <th>bird</th>\n",
       "      <th>species</th>\n",
       "      <th>year</th>\n",
       "      <th>date_time</th>\n",
       "      <th>max_depth.m</th>\n",
       "      <th>colony2</th>\n",
       "      <th>coverage_ratio</th>\n",
       "      <th>is_dive</th>\n",
       "      <th>is_dive_1m</th>\n",
       "      <th>is_dive_2m</th>\n",
       "      <th>is_dive_4m</th>\n",
       "      <th>is_dive_5m</th>\n",
       "      <th>is_dive_0m</th>\n",
       "    </tr>\n",
       "  </thead>\n",
       "  <tbody>\n",
       "    <tr>\n",
       "      <th>0</th>\n",
       "      <td>1</td>\n",
       "      <td>56.095451</td>\n",
       "      <td>-6.233089</td>\n",
       "      <td>-23.059999</td>\n",
       "      <td>1340627854</td>\n",
       "      <td>1</td>\n",
       "      <td>tCOGU</td>\n",
       "      <td>t2012</td>\n",
       "      <td>2012-06-25 13:37:34</td>\n",
       "      <td>-2.172046</td>\n",
       "      <td>1</td>\n",
       "      <td>0.5</td>\n",
       "      <td>False</td>\n",
       "      <td>False</td>\n",
       "      <td>False</td>\n",
       "      <td>False</td>\n",
       "      <td>False</td>\n",
       "      <td>False</td>\n",
       "    </tr>\n",
       "    <tr>\n",
       "      <th>1</th>\n",
       "      <td>2</td>\n",
       "      <td>56.095408</td>\n",
       "      <td>-6.233520</td>\n",
       "      <td>-2.983077</td>\n",
       "      <td>1340627954</td>\n",
       "      <td>1</td>\n",
       "      <td>tCOGU</td>\n",
       "      <td>t2012</td>\n",
       "      <td>2012-06-25 13:39:14</td>\n",
       "      <td>-1.152306</td>\n",
       "      <td>1</td>\n",
       "      <td>0.6</td>\n",
       "      <td>False</td>\n",
       "      <td>False</td>\n",
       "      <td>False</td>\n",
       "      <td>False</td>\n",
       "      <td>False</td>\n",
       "      <td>False</td>\n",
       "    </tr>\n",
       "    <tr>\n",
       "      <th>2</th>\n",
       "      <td>3</td>\n",
       "      <td>56.095437</td>\n",
       "      <td>-6.234275</td>\n",
       "      <td>3.470286</td>\n",
       "      <td>1340628054</td>\n",
       "      <td>1</td>\n",
       "      <td>tCOGU</td>\n",
       "      <td>t2012</td>\n",
       "      <td>2012-06-25 13:40:54</td>\n",
       "      <td>-2.172046</td>\n",
       "      <td>1</td>\n",
       "      <td>0.7</td>\n",
       "      <td>False</td>\n",
       "      <td>False</td>\n",
       "      <td>False</td>\n",
       "      <td>False</td>\n",
       "      <td>False</td>\n",
       "      <td>False</td>\n",
       "    </tr>\n",
       "    <tr>\n",
       "      <th>3</th>\n",
       "      <td>4</td>\n",
       "      <td>56.095635</td>\n",
       "      <td>-6.234815</td>\n",
       "      <td>1.902667</td>\n",
       "      <td>1340628154</td>\n",
       "      <td>1</td>\n",
       "      <td>tCOGU</td>\n",
       "      <td>t2012</td>\n",
       "      <td>2012-06-25 13:42:34</td>\n",
       "      <td>-2.172046</td>\n",
       "      <td>1</td>\n",
       "      <td>0.8</td>\n",
       "      <td>False</td>\n",
       "      <td>False</td>\n",
       "      <td>False</td>\n",
       "      <td>False</td>\n",
       "      <td>False</td>\n",
       "      <td>False</td>\n",
       "    </tr>\n",
       "    <tr>\n",
       "      <th>4</th>\n",
       "      <td>5</td>\n",
       "      <td>56.095821</td>\n",
       "      <td>-6.235293</td>\n",
       "      <td>2.824952</td>\n",
       "      <td>1340628254</td>\n",
       "      <td>1</td>\n",
       "      <td>tCOGU</td>\n",
       "      <td>t2012</td>\n",
       "      <td>2012-06-25 13:44:14</td>\n",
       "      <td>-2.172046</td>\n",
       "      <td>1</td>\n",
       "      <td>0.9</td>\n",
       "      <td>False</td>\n",
       "      <td>False</td>\n",
       "      <td>False</td>\n",
       "      <td>False</td>\n",
       "      <td>False</td>\n",
       "      <td>False</td>\n",
       "    </tr>\n",
       "  </tbody>\n",
       "</table>\n",
       "</div>"
      ],
      "text/plain": [
       "   Unnamed: 0        lat       lon        alt        unix  bird species  \\\n",
       "0           1  56.095451 -6.233089 -23.059999  1340627854     1   tCOGU   \n",
       "1           2  56.095408 -6.233520  -2.983077  1340627954     1   tCOGU   \n",
       "2           3  56.095437 -6.234275   3.470286  1340628054     1   tCOGU   \n",
       "3           4  56.095635 -6.234815   1.902667  1340628154     1   tCOGU   \n",
       "4           5  56.095821 -6.235293   2.824952  1340628254     1   tCOGU   \n",
       "\n",
       "    year            date_time  max_depth.m  colony2  coverage_ratio  is_dive  \\\n",
       "0  t2012  2012-06-25 13:37:34    -2.172046        1             0.5    False   \n",
       "1  t2012  2012-06-25 13:39:14    -1.152306        1             0.6    False   \n",
       "2  t2012  2012-06-25 13:40:54    -2.172046        1             0.7    False   \n",
       "3  t2012  2012-06-25 13:42:34    -2.172046        1             0.8    False   \n",
       "4  t2012  2012-06-25 13:44:14    -2.172046        1             0.9    False   \n",
       "\n",
       "   is_dive_1m  is_dive_2m  is_dive_4m  is_dive_5m  is_dive_0m  \n",
       "0       False       False       False       False       False  \n",
       "1       False       False       False       False       False  \n",
       "2       False       False       False       False       False  \n",
       "3       False       False       False       False       False  \n",
       "4       False       False       False       False       False  "
      ]
     },
     "execution_count": 6,
     "metadata": {},
     "output_type": "execute_result"
    }
   ],
   "source": [
    "df.head()"
   ]
  },
  {
   "cell_type": "code",
   "execution_count": 7,
   "id": "fd0909b5-0245-412f-b1cd-b7d60a8baf1f",
   "metadata": {},
   "outputs": [
    {
     "name": "stdout",
     "output_type": "stream",
     "text": [
      "<class 'pandas.core.frame.DataFrame'>\n",
      "RangeIndex: 263718 entries, 0 to 263717\n",
      "Data columns (total 18 columns):\n",
      " #   Column          Non-Null Count   Dtype  \n",
      "---  ------          --------------   -----  \n",
      " 0   Unnamed: 0      263718 non-null  int64  \n",
      " 1   lat             263718 non-null  float64\n",
      " 2   lon             263718 non-null  float64\n",
      " 3   alt             263718 non-null  float64\n",
      " 4   unix            263718 non-null  int64  \n",
      " 5   bird            263718 non-null  int64  \n",
      " 6   species         263718 non-null  object \n",
      " 7   year            263718 non-null  object \n",
      " 8   date_time       263718 non-null  object \n",
      " 9   max_depth.m     263718 non-null  float64\n",
      " 10  colony2         263718 non-null  int64  \n",
      " 11  coverage_ratio  262648 non-null  float64\n",
      " 12  is_dive         263718 non-null  bool   \n",
      " 13  is_dive_1m      263718 non-null  bool   \n",
      " 14  is_dive_2m      263718 non-null  bool   \n",
      " 15  is_dive_4m      263718 non-null  bool   \n",
      " 16  is_dive_5m      263718 non-null  bool   \n",
      " 17  is_dive_0m      263718 non-null  bool   \n",
      "dtypes: bool(6), float64(5), int64(4), object(3)\n",
      "memory usage: 25.7+ MB\n"
     ]
    }
   ],
   "source": [
    "df.info()"
   ]
  },
  {
   "cell_type": "code",
   "execution_count": 8,
   "id": "d089df45-9b05-4341-a69a-f82bb3c1096b",
   "metadata": {},
   "outputs": [
    {
     "data": {
      "text/html": [
       "<div>\n",
       "<style scoped>\n",
       "    .dataframe tbody tr th:only-of-type {\n",
       "        vertical-align: middle;\n",
       "    }\n",
       "\n",
       "    .dataframe tbody tr th {\n",
       "        vertical-align: top;\n",
       "    }\n",
       "\n",
       "    .dataframe thead th {\n",
       "        text-align: right;\n",
       "    }\n",
       "</style>\n",
       "<table border=\"1\" class=\"dataframe\">\n",
       "  <thead>\n",
       "    <tr style=\"text-align: right;\">\n",
       "      <th></th>\n",
       "      <th>Unnamed: 0</th>\n",
       "      <th>lat</th>\n",
       "      <th>lon</th>\n",
       "      <th>alt</th>\n",
       "      <th>unix</th>\n",
       "      <th>bird</th>\n",
       "      <th>max_depth.m</th>\n",
       "      <th>colony2</th>\n",
       "      <th>coverage_ratio</th>\n",
       "    </tr>\n",
       "  </thead>\n",
       "  <tbody>\n",
       "    <tr>\n",
       "      <th>count</th>\n",
       "      <td>263718.000000</td>\n",
       "      <td>263718.000000</td>\n",
       "      <td>263718.000000</td>\n",
       "      <td>263718.000000</td>\n",
       "      <td>2.637180e+05</td>\n",
       "      <td>263718.000000</td>\n",
       "      <td>263718.000000</td>\n",
       "      <td>263718.000000</td>\n",
       "      <td>262648.000000</td>\n",
       "    </tr>\n",
       "    <tr>\n",
       "      <th>mean</th>\n",
       "      <td>131859.500000</td>\n",
       "      <td>56.580051</td>\n",
       "      <td>-4.234669</td>\n",
       "      <td>23.743436</td>\n",
       "      <td>1.359405e+09</td>\n",
       "      <td>53.508103</td>\n",
       "      <td>2.031185</td>\n",
       "      <td>4.063989</td>\n",
       "      <td>0.569349</td>\n",
       "    </tr>\n",
       "    <tr>\n",
       "      <th>std</th>\n",
       "      <td>76128.973483</td>\n",
       "      <td>2.476717</td>\n",
       "      <td>1.854708</td>\n",
       "      <td>249.990511</td>\n",
       "      <td>2.821933e+07</td>\n",
       "      <td>32.627900</td>\n",
       "      <td>13.735655</td>\n",
       "      <td>3.111499</td>\n",
       "      <td>0.349948</td>\n",
       "    </tr>\n",
       "    <tr>\n",
       "      <th>min</th>\n",
       "      <td>1.000000</td>\n",
       "      <td>51.468828</td>\n",
       "      <td>-6.749091</td>\n",
       "      <td>-482.654556</td>\n",
       "      <td>1.306926e+09</td>\n",
       "      <td>1.000000</td>\n",
       "      <td>-10.329966</td>\n",
       "      <td>1.000000</td>\n",
       "      <td>0.000000</td>\n",
       "    </tr>\n",
       "    <tr>\n",
       "      <th>25%</th>\n",
       "      <td>65930.250000</td>\n",
       "      <td>56.088568</td>\n",
       "      <td>-6.230647</td>\n",
       "      <td>-0.129882</td>\n",
       "      <td>1.339011e+09</td>\n",
       "      <td>25.000000</td>\n",
       "      <td>-1.407241</td>\n",
       "      <td>1.000000</td>\n",
       "      <td>0.200000</td>\n",
       "    </tr>\n",
       "    <tr>\n",
       "      <th>50%</th>\n",
       "      <td>131859.500000</td>\n",
       "      <td>56.255339</td>\n",
       "      <td>-5.301294</td>\n",
       "      <td>8.889465</td>\n",
       "      <td>1.368729e+09</td>\n",
       "      <td>49.000000</td>\n",
       "      <td>-0.581252</td>\n",
       "      <td>2.000000</td>\n",
       "      <td>0.800000</td>\n",
       "    </tr>\n",
       "    <tr>\n",
       "      <th>75%</th>\n",
       "      <td>197788.750000</td>\n",
       "      <td>58.691067</td>\n",
       "      <td>-2.664804</td>\n",
       "      <td>25.936559</td>\n",
       "      <td>1.372852e+09</td>\n",
       "      <td>83.000000</td>\n",
       "      <td>0.887174</td>\n",
       "      <td>6.000000</td>\n",
       "      <td>0.900000</td>\n",
       "    </tr>\n",
       "    <tr>\n",
       "      <th>max</th>\n",
       "      <td>263718.000000</td>\n",
       "      <td>59.824936</td>\n",
       "      <td>-1.042002</td>\n",
       "      <td>9839.139371</td>\n",
       "      <td>1.404837e+09</td>\n",
       "      <td>108.000000</td>\n",
       "      <td>250.468539</td>\n",
       "      <td>10.000000</td>\n",
       "      <td>1.100000</td>\n",
       "    </tr>\n",
       "  </tbody>\n",
       "</table>\n",
       "</div>"
      ],
      "text/plain": [
       "          Unnamed: 0            lat            lon            alt  \\\n",
       "count  263718.000000  263718.000000  263718.000000  263718.000000   \n",
       "mean   131859.500000      56.580051      -4.234669      23.743436   \n",
       "std     76128.973483       2.476717       1.854708     249.990511   \n",
       "min         1.000000      51.468828      -6.749091    -482.654556   \n",
       "25%     65930.250000      56.088568      -6.230647      -0.129882   \n",
       "50%    131859.500000      56.255339      -5.301294       8.889465   \n",
       "75%    197788.750000      58.691067      -2.664804      25.936559   \n",
       "max    263718.000000      59.824936      -1.042002    9839.139371   \n",
       "\n",
       "               unix           bird    max_depth.m        colony2  \\\n",
       "count  2.637180e+05  263718.000000  263718.000000  263718.000000   \n",
       "mean   1.359405e+09      53.508103       2.031185       4.063989   \n",
       "std    2.821933e+07      32.627900      13.735655       3.111499   \n",
       "min    1.306926e+09       1.000000     -10.329966       1.000000   \n",
       "25%    1.339011e+09      25.000000      -1.407241       1.000000   \n",
       "50%    1.368729e+09      49.000000      -0.581252       2.000000   \n",
       "75%    1.372852e+09      83.000000       0.887174       6.000000   \n",
       "max    1.404837e+09     108.000000     250.468539      10.000000   \n",
       "\n",
       "       coverage_ratio  \n",
       "count   262648.000000  \n",
       "mean         0.569349  \n",
       "std          0.349948  \n",
       "min          0.000000  \n",
       "25%          0.200000  \n",
       "50%          0.800000  \n",
       "75%          0.900000  \n",
       "max          1.100000  "
      ]
     },
     "execution_count": 8,
     "metadata": {},
     "output_type": "execute_result"
    }
   ],
   "source": [
    "df.describe()"
   ]
  },
  {
   "cell_type": "code",
   "execution_count": 10,
   "id": "c41d8105-0ddd-4260-980e-7baabfd24279",
   "metadata": {},
   "outputs": [],
   "source": [
    "import numpy as np"
   ]
  },
  {
   "cell_type": "code",
   "execution_count": null,
   "id": "9d6a1d5b-d492-4827-8999-7822859314c5",
   "metadata": {},
   "outputs": [],
   "source": [
    "import ast\n",
    "def date_to_age(bdate: str) -> int:\n",
    "    date = bdate.split(\".\")\n",
    "    if len(date) < 3:\n",
    "        return None\n",
    "    else:\n",
    "        return 2020 - int(date[2])\n",
    "\n",
    "def count_info(row: pd.Series) -> int:\n",
    "    columns = [\"activities\", \"interests\", \"music\", \"movies\", \"tv\", \"books\", \"about\", \"inspired_by\", \"religion\"]\n",
    "    return sum([ 1 if pd.isna(row[column]) else 0 for column in columns])\n",
    "\n",
    "df.posts = df.posts.apply(lambda ps: np.array(ast.literal_eval(ps)))\n",
    "\n",
    "df = df.assign( age = df.bdate.apply(date_to_age),\n",
    "                posts_count = df.posts.apply(len),\n",
    "                posts_len = df.posts.apply(lambda ps: int(np.median([len(p) for p in ps]) if len(ps) > 0 else 0)),\n",
    "                info_count = df.apply(count_info, axis=1))\n",
    "df = df[[\"age\", \"relation\", \"posts_count\", \"posts_len\", \"info_count\"]]\n",
    "df = df[df.age.notnull()]\n",
    "df.head()"
   ]
  },
  {
   "cell_type": "code",
   "execution_count": null,
   "id": "0f31626a-b7db-493a-acee-1c1a2c955078",
   "metadata": {},
   "outputs": [],
   "source": [
    "df.describe()"
   ]
  },
  {
   "cell_type": "code",
   "execution_count": null,
   "id": "5cf0328d-810d-409b-8529-f72148d4f055",
   "metadata": {},
   "outputs": [],
   "source": [
    "df.info()"
   ]
  },
  {
   "cell_type": "code",
   "execution_count": 14,
   "id": "d06ab7eb-3500-48b0-a7d4-1790068200d7",
   "metadata": {},
   "outputs": [],
   "source": [
    "import seaborn as sns"
   ]
  },
  {
   "cell_type": "code",
   "execution_count": null,
   "id": "14cc519c-6acb-4641-9242-9f43d9a293d6",
   "metadata": {},
   "outputs": [],
   "source": [
    "print(np.unique(df.relation, return_counts=True))\n",
    "sns.countplot(x='relation', data=df)"
   ]
  },
  {
   "cell_type": "code",
   "execution_count": null,
   "id": "c26ae004-c30c-42ea-b339-c9fa8c97b458",
   "metadata": {},
   "outputs": [],
   "source": [
    "sns.heatmap(df.corr(), vmin=-1, vmax=1, annot=True)"
   ]
  },
  {
   "cell_type": "code",
   "execution_count": null,
   "id": "bef9a291-a6cb-4dd8-9f04-bd0d5f7f7e41",
   "metadata": {},
   "outputs": [],
   "source": [
    "sns.pairplot(df, hue='relation')"
   ]
  },
  {
   "cell_type": "code",
   "execution_count": null,
   "id": "2cf728ad-52aa-4937-bfbe-418911b17b73",
   "metadata": {},
   "outputs": [],
   "source": [
    "df1 = df.copy()"
   ]
  },
  {
   "cell_type": "code",
   "execution_count": 18,
   "id": "5d7e6b63-88d4-49a1-9a29-1b888121d6cd",
   "metadata": {},
   "outputs": [
    {
     "data": {
      "text/plain": [
       "<AxesSubplot:xlabel='alt', ylabel='Count'>"
      ]
     },
     "execution_count": 18,
     "metadata": {},
     "output_type": "execute_result"
    },
    {
     "data": {
      "image/png": "[encoded data removed]",
      "text/plain": [
       "<Figure size 432x288 with 1 Axes>"
      ]
     },
     "metadata": {
      "needs_background": "light"
     },
     "output_type": "display_data"
    }
   ],
   "source": [
    "sns.histplot(df['alt'])"
   ]
  },
  {
   "cell_type": "code",
   "execution_count": 20,
   "id": "79787b42-363b-4aaa-9dfd-9c673a5f781b",
   "metadata": {},
   "outputs": [
    {
     "name": "stdout",
     "output_type": "stream",
     "text": [
      "NormaltestResult(statistic=713364.3210184698, pvalue=0.0)\n",
      "NormaltestResult(statistic=713364.3210184698, pvalue=0.0)\n",
      "NormaltestResult(statistic=713364.3210184698, pvalue=0.0)\n",
      "NormaltestResult(statistic=nan, pvalue=nan)\n",
      "NormaltestResult(statistic=nan, pvalue=nan)\n",
      "NormaltestResult(statistic=nan, pvalue=nan)\n"
     ]
    },
    {
     "name": "stderr",
     "output_type": "stream",
     "text": [
      "<ipython-input-20-07991ba9dade>:8: RuntimeWarning: divide by zero encountered in log\n",
      "  print(stats.normaltest(np.log(df[col]) - np.log(d)))\n"
     ]
    }
   ],
   "source": [
    "from scipy import stats\n",
    "col = 'alt'\n",
    "d = 0\n",
    "print(stats.normaltest(df[col]))\n",
    "print(stats.normaltest(df[col] - df[col].mean()))\n",
    "print(stats.normaltest(df[col] - d))\n",
    "print(stats.normaltest(np.log(df[col])))\n",
    "print(stats.normaltest(np.log(df[col]) - np.log(d)))\n",
    "print(stats.normaltest(np.log(df[col]) - np.log(df[col]).mean()))"
   ]
  },
  {
   "cell_type": "code",
   "execution_count": null,
   "id": "a0656c93-8cb7-445d-9da6-66287ddc927a",
   "metadata": {},
   "outputs": [],
   "source": [
    "df = df1.copy()\n",
    "df = df[df.relation != 0]\n",
    "# df.posts_len = df.posts_len.apply(lambda l: np.log(l) if l != 0 else 0)"
   ]
  },
  {
   "cell_type": "code",
   "execution_count": null,
   "id": "8d135cc6-6f1f-419f-a1a5-aa021e56502e",
   "metadata": {},
   "outputs": [],
   "source": [
    "sns.pairplot(df, hue='relation')"
   ]
  },
  {
   "cell_type": "code",
   "execution_count": null,
   "id": "605bef10-223f-40de-a5fa-f7c9c270b7b9",
   "metadata": {},
   "outputs": [],
   "source": [
    "X = df[['age', 'posts_count', 'posts_len', 'info_count']]\n",
    "y = df['relation']"
   ]
  },
  {
   "cell_type": "code",
   "execution_count": null,
   "id": "9445236b-052a-42bb-8e83-18e64d590931",
   "metadata": {},
   "outputs": [],
   "source": [
    "from sklearn.svm import SVC\n",
    "from sklearn.model_selection import cross_val_score\n",
    "\n",
    "svm_clf = SVC()\n",
    "\n",
    "cross_val_score(svm_clf, X, y, cv=10).mean()"
   ]
  },
  {
   "cell_type": "code",
   "execution_count": null,
   "id": "98234fd7-099f-4345-9b37-69bccf7c0694",
   "metadata": {},
   "outputs": [],
   "source": []
  }
 ],
 "metadata": {
  "kernelspec": {
   "display_name": "Python 3",
   "language": "python",
   "name": "python3"
  },
  "language_info": {
   "codemirror_mode": {
    "name": "ipython",
    "version": 3
   },
   "file_extension": ".py",
   "mimetype": "text/x-python",
   "name": "python",
   "nbconvert_exporter": "python",
   "pygments_lexer": "ipython3",
   "version": "3.8.11"
  },
  "toc-autonumbering": false,
  "toc-showcode": false,
  "toc-showmarkdowntxt": false,
  "toc-showtags": false
 },
 "nbformat": 4,
 "nbformat_minor": 5
}
