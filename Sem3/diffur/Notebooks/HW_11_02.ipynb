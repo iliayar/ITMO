{
 "cells": [
  {
   "cell_type": "markdown",
   "metadata": {},
   "source": [
    "# 1\n",
    "\n",
    "Найти второе приближение Пикара для системы:\n",
    "\n",
    "\\begin{cases}\n",
    "\\dot{x} = t+x \\\\\n",
    "\\dot{y} = xyt \\\\\n",
    "\\end{cases}\n",
    "\n",
    "и задачи Коши $x(0)=1,y(0)=−1$. Указать в ответе $y_2(1)$ с точностью до трёх знаков после запятой."
   ]
  },
  {
   "cell_type": "code",
   "execution_count": 2,
   "metadata": {},
   "outputs": [],
   "source": [
    "y2(t) = -(t^6/24 + t^5/10 + t^4/4 + t^3/3 + t^2/2 + 1)"
   ]
  },
  {
   "cell_type": "code",
   "execution_count": 4,
   "metadata": {},
   "outputs": [
    {
     "data": {
      "text/plain": [
       "-2.225"
      ]
     },
     "execution_count": 4,
     "metadata": {},
     "output_type": "execute_result"
    }
   ],
   "source": [
    "float(y2(1))"
   ]
  },
  {
   "cell_type": "markdown",
   "metadata": {},
   "source": [
    "# 2\n",
    "Найти второе приближение Пикара для уравнения $y''-y'\\sin x - x^2 =0$, $y(0)=1, y'(0)=0$. Укажите $y_2(1)$ с точностью до двух знаков после запятой.\n"
   ]
  },
  {
   "cell_type": "code",
   "execution_count": 7,
   "metadata": {},
   "outputs": [],
   "source": [
    "y2(x) = 1 + x^4/12"
   ]
  },
  {
   "cell_type": "code",
   "execution_count": 8,
   "metadata": {},
   "outputs": [
    {
     "data": {
      "text/plain": [
       "1.0833333333333333"
      ]
     },
     "execution_count": 8,
     "metadata": {},
     "output_type": "execute_result"
    }
   ],
   "source": [
    "float(y2(1))"
   ]
  },
  {
   "cell_type": "markdown",
   "metadata": {},
   "source": [
    "# 3\n",
    "Решите уравнение $(x+y+1)dx+(2x+2y−1)dy=0$. Укажите ординату точки пересечения решения и прямой $x+y=3$, если $y(0)=0$."
   ]
  },
  {
   "cell_type": "code",
   "execution_count": 257,
   "metadata": {},
   "outputs": [],
   "source": [
    "x = var('x')\n",
    "y = function('y')(x)"
   ]
  },
  {
   "cell_type": "code",
   "execution_count": 258,
   "metadata": {},
   "outputs": [],
   "source": [
    "de = 0 == (x+y+1) + (2*x + 2*y - 1)*diff(y, x)"
   ]
  },
  {
   "cell_type": "code",
   "execution_count": 270,
   "metadata": {},
   "outputs": [
    {
     "data": {
      "text/plain": [
       "0 == (2*x + 2*y(x) - 1)*diff(y(x), x) + x + y(x) + 1"
      ]
     },
     "execution_count": 270,
     "metadata": {},
     "output_type": "execute_result"
    }
   ],
   "source": [
    "z = function('z')(x, y)\n",
    "de.subs(x + y == z)"
   ]
  },
  {
   "cell_type": "code",
   "execution_count": 217,
   "metadata": {},
   "outputs": [
    {
     "data": {
      "text/plain": [
       "3*log(z(x) - 2) + 2*z(x) == _C + x"
      ]
     },
     "execution_count": 217,
     "metadata": {},
     "output_type": "execute_result"
    }
   ],
   "source": [
    "desolve(diff(z, x) == (z - 2)/(2*z - 1), z)"
   ]
  },
  {
   "cell_type": "code",
   "execution_count": 226,
   "metadata": {},
   "outputs": [
    {
     "data": {
      "text/plain": [
       "-0.9205584583201643"
      ]
     },
     "execution_count": 226,
     "metadata": {},
     "output_type": "execute_result"
    }
   ],
   "source": [
    "float(3*(ln(2) - 1))"
   ]
  },
  {
   "cell_type": "markdown",
   "metadata": {},
   "source": [
    "# 4\n",
    "Вычислить время падения мяча 0,4 кг с высоты 16,3 метра с учётом сопротивления воздуха. Сопротивление воздуха пропорционально квадрату скорости и равно 0,48 г при скорости 1 м/сек. Округлить время в секундах до двух знаков."
   ]
  },
  {
   "cell_type": "code",
   "execution_count": 518,
   "metadata": {},
   "outputs": [],
   "source": [
    "t = var('t')\n",
    "v = function('v')(t)\n",
    "h = function('h')(t)\n",
    "g, k, H, G = var('g k H G')\n",
    "assume(g > 0)\n",
    "assume(k > 0)\n",
    "assume(H > 0)\n",
    "assume(G > 0)\n",
    "_g = 10\n",
    "_P = 0.4\n",
    "_k = 0.48 / 1000\n",
    "_H = 16.3\n",
    "_G = _k*_g/_P"
   ]
  },
  {
   "cell_type": "code",
   "execution_count": 519,
   "metadata": {},
   "outputs": [
    {
     "data": {
      "text/html": [
       "<html><script type=\"math/tex; mode=display\">\\newcommand{\\Bold}[1]{\\mathbf{#1}}\\frac{\\partial}{\\partial t}v\\left(t\\right) = -G v\\left(t\\right)^{2} + g</script></html>"
      ],
      "text/latex": [
       "\\begin{math}\n",
       "\\newcommand{\\Bold}[1]{\\mathbf{#1}}\\frac{\\partial}{\\partial t}v\\left(t\\right) = -G v\\left(t\\right)^{2} + g\n",
       "\\end{math}"
      ],
      "text/plain": [
       "diff(v(t), t) == -G*v(t)^2 + g"
      ]
     },
     "metadata": {},
     "output_type": "display_data"
    }
   ],
   "source": [
    "de = diff(v, t) == g - G*v^2\n",
    "show(de)"
   ]
  },
  {
   "cell_type": "code",
   "execution_count": 520,
   "metadata": {},
   "outputs": [
    {
     "data": {
      "text/html": [
       "<html><script type=\"math/tex; mode=display\">\\newcommand{\\Bold}[1]{\\mathbf{#1}}\\verb|Solved|\\phantom{\\verb!x!}\\verb|diffeq|\\phantom{\\verb!x!}\\verb|for|\\phantom{\\verb!x!}\\verb|v(t):| -\\frac{\\log\\left(\\frac{G v\\left(t\\right) - \\sqrt{G g}}{G v\\left(t\\right) + \\sqrt{G g}}\\right)}{2 \\, \\sqrt{G g}} = \\frac{-i \\, \\pi + 2 \\, \\sqrt{G g} t}{2 \\, \\sqrt{G g}}</script></html>"
      ],
      "text/latex": [
       "\\begin{math}\n",
       "\\newcommand{\\Bold}[1]{\\mathbf{#1}}\\verb|Solved|\\phantom{\\verb!x!}\\verb|diffeq|\\phantom{\\verb!x!}\\verb|for|\\phantom{\\verb!x!}\\verb|v(t):| -\\frac{\\log\\left(\\frac{G v\\left(t\\right) - \\sqrt{G g}}{G v\\left(t\\right) + \\sqrt{G g}}\\right)}{2 \\, \\sqrt{G g}} = \\frac{-i \\, \\pi + 2 \\, \\sqrt{G g} t}{2 \\, \\sqrt{G g}}\n",
       "\\end{math}"
      ],
      "text/plain": [
       "'Solved diffeq for v(t): ' -1/2*log((G*v(t) - sqrt(G*g))/(G*v(t) + sqrt(G*g)))/sqrt(G*g) == 1/2*(-I*pi + 2*sqrt(G*g)*t)/sqrt(G*g)"
      ]
     },
     "metadata": {},
     "output_type": "display_data"
    },
    {
     "data": {
      "text/html": [
       "<html><script type=\"math/tex; mode=display\">\\newcommand{\\Bold}[1]{\\mathbf{#1}}\\left[v\\left(t\\right) = \\frac{\\sqrt{G g} e^{\\left(2 \\, \\sqrt{G g} t\\right)} - \\sqrt{G g}}{G e^{\\left(2 \\, \\sqrt{G g} t\\right)} + G}\\right]</script></html>"
      ],
      "text/latex": [
       "\\begin{math}\n",
       "\\newcommand{\\Bold}[1]{\\mathbf{#1}}\\left[v\\left(t\\right) = \\frac{\\sqrt{G g} e^{\\left(2 \\, \\sqrt{G g} t\\right)} - \\sqrt{G g}}{G e^{\\left(2 \\, \\sqrt{G g} t\\right)} + G}\\right]\n",
       "\\end{math}"
      ],
      "text/plain": [
       "[v(t) == (sqrt(G*g)*e^(2*sqrt(G*g)*t) - sqrt(G*g))/(G*e^(2*sqrt(G*g)*t) + G)]"
      ]
     },
     "metadata": {},
     "output_type": "display_data"
    },
    {
     "data": {
      "text/html": [
       "<html><script type=\"math/tex; mode=display\">\\newcommand{\\Bold}[1]{\\mathbf{#1}}\\frac{\\sqrt{G g} e^{\\left(2 \\, \\sqrt{G g} t\\right)} - \\sqrt{G g}}{G e^{\\left(2 \\, \\sqrt{G g} t\\right)} + G}</script></html>"
      ],
      "text/latex": [
       "\\begin{math}\n",
       "\\newcommand{\\Bold}[1]{\\mathbf{#1}}\\frac{\\sqrt{G g} e^{\\left(2 \\, \\sqrt{G g} t\\right)} - \\sqrt{G g}}{G e^{\\left(2 \\, \\sqrt{G g} t\\right)} + G}\n",
       "\\end{math}"
      ],
      "text/plain": [
       "(sqrt(G*g)*e^(2*sqrt(G*g)*t) - sqrt(G*g))/(G*e^(2*sqrt(G*g)*t) + G)"
      ]
     },
     "metadata": {},
     "output_type": "display_data"
    }
   ],
   "source": [
    "de_sol = desolve(de, v, ivar = t, ics = [0, 0])\n",
    "show(\"Solved diffeq for v(t): \", de_sol)\n",
    "_V = solve(de_sol, v)\n",
    "show(_V)\n",
    "V = _V[0].right()\n",
    "show(V)"
   ]
  },
  {
   "cell_type": "code",
   "execution_count": 487,
   "metadata": {},
   "outputs": [
    {
     "data": {
      "text/html": [
       "<html><script type=\"math/tex; mode=display\">\\newcommand{\\Bold}[1]{\\mathbf{#1}}\\verb|Cast|\\phantom{\\verb!x!}\\verb|to|\\phantom{\\verb!x!}\\verb|hyperbolic|\\phantom{\\verb!x!}\\verb|functions:| \\frac{\\sqrt{G g} \\tanh\\left(\\sqrt{G g} t\\right)}{G}</script></html>"
      ],
      "text/latex": [
       "\\begin{math}\n",
       "\\newcommand{\\Bold}[1]{\\mathbf{#1}}\\verb|Cast|\\phantom{\\verb!x!}\\verb|to|\\phantom{\\verb!x!}\\verb|hyperbolic|\\phantom{\\verb!x!}\\verb|functions:| \\frac{\\sqrt{G g} \\tanh\\left(\\sqrt{G g} t\\right)}{G}\n",
       "\\end{math}"
      ],
      "text/plain": [
       "'Cast to hyperbolic functions: ' sqrt(G*g)*tanh(sqrt(G*g)*t)/G"
      ]
     },
     "metadata": {},
     "output_type": "display_data"
    },
    {
     "data": {
      "text/html": [
       "<html><script type=\"math/tex; mode=display\">\\newcommand{\\Bold}[1]{\\mathbf{#1}}\\verb|Diffeq|\\phantom{\\verb!x!}\\verb|for|\\phantom{\\verb!x!}\\verb|h(t):| \\frac{\\partial}{\\partial t}h\\left(t\\right) = \\frac{\\sqrt{G g} \\tanh\\left(\\sqrt{G g} t\\right)}{G}</script></html>"
      ],
      "text/latex": [
       "\\begin{math}\n",
       "\\newcommand{\\Bold}[1]{\\mathbf{#1}}\\verb|Diffeq|\\phantom{\\verb!x!}\\verb|for|\\phantom{\\verb!x!}\\verb|h(t):| \\frac{\\partial}{\\partial t}h\\left(t\\right) = \\frac{\\sqrt{G g} \\tanh\\left(\\sqrt{G g} t\\right)}{G}\n",
       "\\end{math}"
      ],
      "text/plain": [
       "'Diffeq for h(t): ' diff(h(t), t) == sqrt(G*g)*tanh(sqrt(G*g)*t)/G"
      ]
     },
     "metadata": {},
     "output_type": "display_data"
    },
    {
     "data": {
      "text/html": [
       "<html><script type=\"math/tex; mode=display\">\\newcommand{\\Bold}[1]{\\mathbf{#1}}\\verb|Solution|\\phantom{\\verb!x!}\\verb|for|\\phantom{\\verb!x!}\\verb|h(t):| \\frac{\\log\\left(\\cosh\\left(\\sqrt{G g} t\\right)\\right)}{G}</script></html>"
      ],
      "text/latex": [
       "\\begin{math}\n",
       "\\newcommand{\\Bold}[1]{\\mathbf{#1}}\\verb|Solution|\\phantom{\\verb!x!}\\verb|for|\\phantom{\\verb!x!}\\verb|h(t):| \\frac{\\log\\left(\\cosh\\left(\\sqrt{G g} t\\right)\\right)}{G}\n",
       "\\end{math}"
      ],
      "text/plain": [
       "'Solution for h(t): ' log(cosh(sqrt(G*g)*t))/G"
      ]
     },
     "metadata": {},
     "output_type": "display_data"
    },
    {
     "data": {
      "text/html": [
       "<html><script type=\"math/tex; mode=display\">\\newcommand{\\Bold}[1]{\\mathbf{#1}}\\left[\\right]</script></html>"
      ],
      "text/latex": [
       "\\begin{math}\n",
       "\\newcommand{\\Bold}[1]{\\mathbf{#1}}\\left[\\right]\n",
       "\\end{math}"
      ],
      "text/plain": [
       "[]"
      ]
     },
     "metadata": {},
     "output_type": "display_data"
    },
    {
     "data": {
      "text/html": [
       "<html><script type=\"math/tex; mode=display\">\\newcommand{\\Bold}[1]{\\mathbf{#1}}\\verb|Solution:| \\frac{\\operatorname{arcosh}\\left(e^{\\left(G H\\right)}\\right)}{\\sqrt{G g}}</script></html>"
      ],
      "text/latex": [
       "\\begin{math}\n",
       "\\newcommand{\\Bold}[1]{\\mathbf{#1}}\\verb|Solution:| \\frac{\\operatorname{arcosh}\\left(e^{\\left(G H\\right)}\\right)}{\\sqrt{G g}}\n",
       "\\end{math}"
      ],
      "text/plain": [
       "'Solution:' arccosh(e^(G*H))/sqrt(G*g)"
      ]
     },
     "metadata": {},
     "output_type": "display_data"
    },
    {
     "data": {
      "text/html": [
       "<html><script type=\"math/tex; mode=display\">\\newcommand{\\Bold}[1]{\\mathbf{#1}}\\verb|Numerical|\\phantom{\\verb!x!}\\verb|soultion:| 1.8649429051746655</script></html>"
      ],
      "text/latex": [
       "\\begin{math}\n",
       "\\newcommand{\\Bold}[1]{\\mathbf{#1}}\\verb|Numerical|\\phantom{\\verb!x!}\\verb|soultion:| 1.8649429051746655\n",
       "\\end{math}"
      ],
      "text/plain": [
       "'Numerical soultion: ' 1.8649429051746655"
      ]
     },
     "metadata": {},
     "output_type": "display_data"
    }
   ],
   "source": [
    "V1 = V\n",
    "V = sqrt(G*g)/G*tanh(sqrt(G*g)*t)\n",
    "show(\"Cast to hyperbolic functions: \", V)\n",
    "\n",
    "de_h = diff(h, t) == V\n",
    "show(\"Diffeq for h(t): \", de_h)\n",
    "de_h_sol = desolve(de_h, h, ivar=t, ics=[0, 0])\n",
    "show(\"Solution for h(t): \", de_h_sol)\n",
    "_T = solve(de_h_sol == H, t)\n",
    "show(_T)\n",
    "T = arccosh(e^(H*G))/sqrt(G*g)\n",
    "show(\"Solution:\", T)\n",
    "res = float(T(G=_G, g=_g, H=_H))\n",
    "show(\"Numerical soultion: \", res)"
   ]
  },
  {
   "cell_type": "code",
   "execution_count": 521,
   "metadata": {},
   "outputs": [
    {
     "data": {
      "text/html": [
       "<html><script type=\"math/tex; mode=display\">\\newcommand{\\Bold}[1]{\\mathbf{#1}}\\verb|diffeq:| \\frac{\\partial}{\\partial t}h\\left(t\\right) = \\frac{\\sqrt{G g} e^{\\left(2 \\, \\sqrt{G g} t\\right)} - \\sqrt{G g}}{G e^{\\left(2 \\, \\sqrt{G g} t\\right)} + G}</script></html>"
      ],
      "text/latex": [
       "\\begin{math}\n",
       "\\newcommand{\\Bold}[1]{\\mathbf{#1}}\\verb|diffeq:| \\frac{\\partial}{\\partial t}h\\left(t\\right) = \\frac{\\sqrt{G g} e^{\\left(2 \\, \\sqrt{G g} t\\right)} - \\sqrt{G g}}{G e^{\\left(2 \\, \\sqrt{G g} t\\right)} + G}\n",
       "\\end{math}"
      ],
      "text/plain": [
       "'diffeq: ' diff(h(t), t) == (sqrt(G*g)*e^(2*sqrt(G*g)*t) - sqrt(G*g))/(G*e^(2*sqrt(G*g)*t) + G)"
      ]
     },
     "metadata": {},
     "output_type": "display_data"
    },
    {
     "data": {
      "text/html": [
       "<html><script type=\"math/tex; mode=display\">\\newcommand{\\Bold}[1]{\\mathbf{#1}}\\verb|Solved|\\phantom{\\verb!x!}\\verb|diffeq|\\phantom{\\verb!x!}\\verb|for|\\phantom{\\verb!x!}\\verb|h(t):| -\\frac{G g t + \\sqrt{G g} {\\left(\\log\\left(2\\right) - \\log\\left(e^{\\left(2 \\, \\sqrt{G g} t\\right)} + 1\\right)\\right)}}{\\sqrt{G g} G}</script></html>"
      ],
      "text/latex": [
       "\\begin{math}\n",
       "\\newcommand{\\Bold}[1]{\\mathbf{#1}}\\verb|Solved|\\phantom{\\verb!x!}\\verb|diffeq|\\phantom{\\verb!x!}\\verb|for|\\phantom{\\verb!x!}\\verb|h(t):| -\\frac{G g t + \\sqrt{G g} {\\left(\\log\\left(2\\right) - \\log\\left(e^{\\left(2 \\, \\sqrt{G g} t\\right)} + 1\\right)\\right)}}{\\sqrt{G g} G}\n",
       "\\end{math}"
      ],
      "text/plain": [
       "'Solved diffeq for h(t): ' -(G*g*t + sqrt(G*g)*(log(2) - log(e^(2*sqrt(G*g)*t) + 1)))/(sqrt(G*g)*G)"
      ]
     },
     "metadata": {},
     "output_type": "display_data"
    },
    {
     "data": {
      "text/html": [
       "<html><script type=\"math/tex; mode=display\">\\newcommand{\\Bold}[1]{\\mathbf{#1}}\\left[t = -\\frac{\\sqrt{G g} G H + \\sqrt{G g} \\log\\left(2\\right) - \\sqrt{G g} \\log\\left(e^{\\left(2 \\, \\sqrt{G g} t\\right)} + 1\\right)}{G g}\\right]</script></html>"
      ],
      "text/latex": [
       "\\begin{math}\n",
       "\\newcommand{\\Bold}[1]{\\mathbf{#1}}\\left[t = -\\frac{\\sqrt{G g} G H + \\sqrt{G g} \\log\\left(2\\right) - \\sqrt{G g} \\log\\left(e^{\\left(2 \\, \\sqrt{G g} t\\right)} + 1\\right)}{G g}\\right]\n",
       "\\end{math}"
      ],
      "text/plain": [
       "[t == -(sqrt(G*g)*G*H + sqrt(G*g)*log(2) - sqrt(G*g)*log(e^(2*sqrt(G*g)*t) + 1))/(G*g)]"
      ]
     },
     "metadata": {},
     "output_type": "display_data"
    },
    {
     "data": {
      "text/html": [
       "<html><script type=\"math/tex; mode=display\">\\newcommand{\\Bold}[1]{\\mathbf{#1}}\\verb|T|\\phantom{\\verb!x!}\\verb|from|\\phantom{\\verb!x!}\\verb|diffeq:| t = -\\frac{{\\left(G H + \\log\\left(2\\right) - \\log\\left(e^{\\left(2 \\, \\sqrt{G g} t\\right)} + 1\\right)\\right)} \\sqrt{G g}}{G g}</script></html>"
      ],
      "text/latex": [
       "\\begin{math}\n",
       "\\newcommand{\\Bold}[1]{\\mathbf{#1}}\\verb|T|\\phantom{\\verb!x!}\\verb|from|\\phantom{\\verb!x!}\\verb|diffeq:| t = -\\frac{{\\left(G H + \\log\\left(2\\right) - \\log\\left(e^{\\left(2 \\, \\sqrt{G g} t\\right)} + 1\\right)\\right)} \\sqrt{G g}}{G g}\n",
       "\\end{math}"
      ],
      "text/plain": [
       "'T from diffeq: ' t == -(G*H + log(2) - log(e^(2*sqrt(G*g)*t) + 1))*sqrt(G*g)/(G*g)"
      ]
     },
     "metadata": {},
     "output_type": "display_data"
    }
   ],
   "source": [
    "de_h = diff(h, t) == V\n",
    "show(\"diffeq: \", de_h)\n",
    "de_h_sol = desolve(de_h, h, ivar = t, ics = [0, 0]).simplify_full()\n",
    "show(\"Solved diffeq for h(t): \", de_h_sol)\n",
    "_T = solve(de_h_sol == H, t) \n",
    "show(_T)\n",
    "T = _T[0]\n",
    "T = T.simplify_full()\n",
    "show(\"T from diffeq: \", T)"
   ]
  },
  {
   "cell_type": "code",
   "execution_count": 522,
   "metadata": {},
   "outputs": [
    {
     "data": {
      "text/html": [
       "<html><script type=\"math/tex; mode=display\">\\newcommand{\\Bold}[1]{\\mathbf{#1}}2 \\, G H + 2 \\, \\sqrt{G g} t = -2 \\, \\log\\left(2\\right) + 2 \\, \\log\\left(e^{\\left(2 \\, \\sqrt{G g} t\\right)} + 1\\right)</script></html>"
      ],
      "text/latex": [
       "\\begin{math}\n",
       "\\newcommand{\\Bold}[1]{\\mathbf{#1}}2 \\, G H + 2 \\, \\sqrt{G g} t = -2 \\, \\log\\left(2\\right) + 2 \\, \\log\\left(e^{\\left(2 \\, \\sqrt{G g} t\\right)} + 1\\right)\n",
       "\\end{math}"
      ],
      "text/plain": [
       "2*G*H + 2*sqrt(G*g)*t == -2*log(2) + 2*log(e^(2*sqrt(G*g)*t) + 1)"
      ]
     },
     "metadata": {},
     "output_type": "display_data"
    },
    {
     "data": {
      "text/html": [
       "<html><script type=\"math/tex; mode=display\">\\newcommand{\\Bold}[1]{\\mathbf{#1}}\\verb|Simplified|\\phantom{\\verb!x!}\\verb|equation:| z e^{\\left(2 \\, G H\\right)} = \\frac{1}{4} \\, {\\left(z + 1\\right)}^{2}</script></html>"
      ],
      "text/latex": [
       "\\begin{math}\n",
       "\\newcommand{\\Bold}[1]{\\mathbf{#1}}\\verb|Simplified|\\phantom{\\verb!x!}\\verb|equation:| z e^{\\left(2 \\, G H\\right)} = \\frac{1}{4} \\, {\\left(z + 1\\right)}^{2}\n",
       "\\end{math}"
      ],
      "text/plain": [
       "'Simplified equation: ' z*e^(2*G*H) == 1/4*(z + 1)^2"
      ]
     },
     "metadata": {},
     "output_type": "display_data"
    }
   ],
   "source": [
    "z = var('z')\n",
    "z_sub = 2*sqrt(G*g)\n",
    "T1 = (T*z_sub + 2*G*H).simplify_full()\n",
    "show(T1)\n",
    "T1 = z*e^(2*G*H) == 1/4*(z + 1)^2\n",
    "show(\"Simplified equation: \", T1)"
   ]
  },
  {
   "cell_type": "code",
   "execution_count": 523,
   "metadata": {},
   "outputs": [
    {
     "data": {
      "text/html": [
       "<html><script type=\"math/tex; mode=display\">\\newcommand{\\Bold}[1]{\\mathbf{#1}}\\left[z = -2 \\, \\sqrt{e^{\\left(2 \\, G H\\right)} - 1} e^{\\left(G H\\right)} + 2 \\, e^{\\left(2 \\, G H\\right)} - 1, z = 2 \\, \\sqrt{e^{\\left(2 \\, G H\\right)} - 1} e^{\\left(G H\\right)} + 2 \\, e^{\\left(2 \\, G H\\right)} - 1\\right]</script></html>"
      ],
      "text/latex": [
       "\\begin{math}\n",
       "\\newcommand{\\Bold}[1]{\\mathbf{#1}}\\left[z = -2 \\, \\sqrt{e^{\\left(2 \\, G H\\right)} - 1} e^{\\left(G H\\right)} + 2 \\, e^{\\left(2 \\, G H\\right)} - 1, z = 2 \\, \\sqrt{e^{\\left(2 \\, G H\\right)} - 1} e^{\\left(G H\\right)} + 2 \\, e^{\\left(2 \\, G H\\right)} - 1\\right]\n",
       "\\end{math}"
      ],
      "text/plain": [
       "[z == -2*sqrt(e^(2*G*H) - 1)*e^(G*H) + 2*e^(2*G*H) - 1, z == 2*sqrt(e^(2*G*H) - 1)*e^(G*H) + 2*e^(2*G*H) - 1]"
      ]
     },
     "metadata": {},
     "output_type": "display_data"
    },
    {
     "data": {
      "text/html": [
       "<html><script type=\"math/tex; mode=display\">\\newcommand{\\Bold}[1]{\\mathbf{#1}}\\left[t = \\frac{\\log\\left(-\\sqrt{-2 \\, \\sqrt{e^{\\left(2 \\, G H\\right)} - 1} e^{\\left(G H\\right)} + 2 \\, e^{\\left(2 \\, G H\\right)} - 1}\\right)}{\\sqrt{G g}}, t = \\frac{\\log\\left(-2 \\, \\sqrt{e^{\\left(2 \\, G H\\right)} - 1} e^{\\left(G H\\right)} + 2 \\, e^{\\left(2 \\, G H\\right)} - 1\\right)}{2 \\, \\sqrt{G g}}\\right]</script></html>"
      ],
      "text/latex": [
       "\\begin{math}\n",
       "\\newcommand{\\Bold}[1]{\\mathbf{#1}}\\left[t = \\frac{\\log\\left(-\\sqrt{-2 \\, \\sqrt{e^{\\left(2 \\, G H\\right)} - 1} e^{\\left(G H\\right)} + 2 \\, e^{\\left(2 \\, G H\\right)} - 1}\\right)}{\\sqrt{G g}}, t = \\frac{\\log\\left(-2 \\, \\sqrt{e^{\\left(2 \\, G H\\right)} - 1} e^{\\left(G H\\right)} + 2 \\, e^{\\left(2 \\, G H\\right)} - 1\\right)}{2 \\, \\sqrt{G g}}\\right]\n",
       "\\end{math}"
      ],
      "text/plain": [
       "[t == log(-sqrt(-2*sqrt(e^(2*G*H) - 1)*e^(G*H) + 2*e^(2*G*H) - 1))/sqrt(G*g), t == 1/2*log(-2*sqrt(e^(2*G*H) - 1)*e^(G*H) + 2*e^(2*G*H) - 1)/sqrt(G*g)]"
      ]
     },
     "metadata": {},
     "output_type": "display_data"
    },
    {
     "data": {
      "text/html": [
       "<html><script type=\"math/tex; mode=display\">\\newcommand{\\Bold}[1]{\\mathbf{#1}}\\verb|Solution:| t = \\frac{\\log\\left(-\\sqrt{-2 \\, \\sqrt{e^{\\left(2 \\, G H\\right)} - 1} e^{\\left(G H\\right)} + 2 \\, e^{\\left(2 \\, G H\\right)} - 1}\\right)}{\\sqrt{G g}}</script></html>"
      ],
      "text/latex": [
       "\\begin{math}\n",
       "\\newcommand{\\Bold}[1]{\\mathbf{#1}}\\verb|Solution:| t = \\frac{\\log\\left(-\\sqrt{-2 \\, \\sqrt{e^{\\left(2 \\, G H\\right)} - 1} e^{\\left(G H\\right)} + 2 \\, e^{\\left(2 \\, G H\\right)} - 1}\\right)}{\\sqrt{G g}}\n",
       "\\end{math}"
      ],
      "text/plain": [
       "'Solution: ' t == log(-sqrt(-2*sqrt(e^(2*G*H) - 1)*e^(G*H) + 2*e^(2*G*H) - 1))/sqrt(G*g)"
      ]
     },
     "metadata": {},
     "output_type": "display_data"
    },
    {
     "data": {
      "text/html": [
       "<html><script type=\"math/tex; mode=display\">\\newcommand{\\Bold}[1]{\\mathbf{#1}}\\verb|Solution:| t = \\frac{\\log\\left(-2 \\, \\sqrt{e^{\\left(2 \\, G H\\right)} - 1} e^{\\left(G H\\right)} + 2 \\, e^{\\left(2 \\, G H\\right)} - 1\\right)}{2 \\, \\sqrt{G g}}</script></html>"
      ],
      "text/latex": [
       "\\begin{math}\n",
       "\\newcommand{\\Bold}[1]{\\mathbf{#1}}\\verb|Solution:| t = \\frac{\\log\\left(-2 \\, \\sqrt{e^{\\left(2 \\, G H\\right)} - 1} e^{\\left(G H\\right)} + 2 \\, e^{\\left(2 \\, G H\\right)} - 1\\right)}{2 \\, \\sqrt{G g}}\n",
       "\\end{math}"
      ],
      "text/plain": [
       "'Solution: ' t == 1/2*log(-2*sqrt(e^(2*G*H) - 1)*e^(G*H) + 2*e^(2*G*H) - 1)/sqrt(G*g)"
      ]
     },
     "metadata": {},
     "output_type": "display_data"
    },
    {
     "data": {
      "text/html": [
       "<html><script type=\"math/tex; mode=display\">\\newcommand{\\Bold}[1]{\\mathbf{#1}}\\verb|Numerical|\\phantom{\\verb!x!}\\verb|result:| -1.8649429051746662</script></html>"
      ],
      "text/latex": [
       "\\begin{math}\n",
       "\\newcommand{\\Bold}[1]{\\mathbf{#1}}\\verb|Numerical|\\phantom{\\verb!x!}\\verb|result:| -1.8649429051746662\n",
       "\\end{math}"
      ],
      "text/plain": [
       "'Numerical result: ' -1.8649429051746662"
      ]
     },
     "metadata": {},
     "output_type": "display_data"
    },
    {
     "data": {
      "text/html": [
       "<html><script type=\"math/tex; mode=display\">\\newcommand{\\Bold}[1]{\\mathbf{#1}}\\left[t = \\frac{\\log\\left(-\\sqrt{2 \\, \\sqrt{e^{\\left(2 \\, G H\\right)} - 1} e^{\\left(G H\\right)} + 2 \\, e^{\\left(2 \\, G H\\right)} - 1}\\right)}{\\sqrt{G g}}, t = \\frac{\\log\\left(2 \\, \\sqrt{e^{\\left(2 \\, G H\\right)} - 1} e^{\\left(G H\\right)} + 2 \\, e^{\\left(2 \\, G H\\right)} - 1\\right)}{2 \\, \\sqrt{G g}}\\right]</script></html>"
      ],
      "text/latex": [
       "\\begin{math}\n",
       "\\newcommand{\\Bold}[1]{\\mathbf{#1}}\\left[t = \\frac{\\log\\left(-\\sqrt{2 \\, \\sqrt{e^{\\left(2 \\, G H\\right)} - 1} e^{\\left(G H\\right)} + 2 \\, e^{\\left(2 \\, G H\\right)} - 1}\\right)}{\\sqrt{G g}}, t = \\frac{\\log\\left(2 \\, \\sqrt{e^{\\left(2 \\, G H\\right)} - 1} e^{\\left(G H\\right)} + 2 \\, e^{\\left(2 \\, G H\\right)} - 1\\right)}{2 \\, \\sqrt{G g}}\\right]\n",
       "\\end{math}"
      ],
      "text/plain": [
       "[t == log(-sqrt(2*sqrt(e^(2*G*H) - 1)*e^(G*H) + 2*e^(2*G*H) - 1))/sqrt(G*g), t == 1/2*log(2*sqrt(e^(2*G*H) - 1)*e^(G*H) + 2*e^(2*G*H) - 1)/sqrt(G*g)]"
      ]
     },
     "metadata": {},
     "output_type": "display_data"
    },
    {
     "data": {
      "text/html": [
       "<html><script type=\"math/tex; mode=display\">\\newcommand{\\Bold}[1]{\\mathbf{#1}}\\verb|Solution:| t = \\frac{\\log\\left(-\\sqrt{2 \\, \\sqrt{e^{\\left(2 \\, G H\\right)} - 1} e^{\\left(G H\\right)} + 2 \\, e^{\\left(2 \\, G H\\right)} - 1}\\right)}{\\sqrt{G g}}</script></html>"
      ],
      "text/latex": [
       "\\begin{math}\n",
       "\\newcommand{\\Bold}[1]{\\mathbf{#1}}\\verb|Solution:| t = \\frac{\\log\\left(-\\sqrt{2 \\, \\sqrt{e^{\\left(2 \\, G H\\right)} - 1} e^{\\left(G H\\right)} + 2 \\, e^{\\left(2 \\, G H\\right)} - 1}\\right)}{\\sqrt{G g}}\n",
       "\\end{math}"
      ],
      "text/plain": [
       "'Solution: ' t == log(-sqrt(2*sqrt(e^(2*G*H) - 1)*e^(G*H) + 2*e^(2*G*H) - 1))/sqrt(G*g)"
      ]
     },
     "metadata": {},
     "output_type": "display_data"
    },
    {
     "data": {
      "text/html": [
       "<html><script type=\"math/tex; mode=display\">\\newcommand{\\Bold}[1]{\\mathbf{#1}}\\verb|Solution:| t = \\frac{\\log\\left(2 \\, \\sqrt{e^{\\left(2 \\, G H\\right)} - 1} e^{\\left(G H\\right)} + 2 \\, e^{\\left(2 \\, G H\\right)} - 1\\right)}{2 \\, \\sqrt{G g}}</script></html>"
      ],
      "text/latex": [
       "\\begin{math}\n",
       "\\newcommand{\\Bold}[1]{\\mathbf{#1}}\\verb|Solution:| t = \\frac{\\log\\left(2 \\, \\sqrt{e^{\\left(2 \\, G H\\right)} - 1} e^{\\left(G H\\right)} + 2 \\, e^{\\left(2 \\, G H\\right)} - 1\\right)}{2 \\, \\sqrt{G g}}\n",
       "\\end{math}"
      ],
      "text/plain": [
       "'Solution: ' t == 1/2*log(2*sqrt(e^(2*G*H) - 1)*e^(G*H) + 2*e^(2*G*H) - 1)/sqrt(G*g)"
      ]
     },
     "metadata": {},
     "output_type": "display_data"
    },
    {
     "data": {
      "text/html": [
       "<html><script type=\"math/tex; mode=display\">\\newcommand{\\Bold}[1]{\\mathbf{#1}}\\verb|Numerical|\\phantom{\\verb!x!}\\verb|result:| 1.8649429051746655</script></html>"
      ],
      "text/latex": [
       "\\begin{math}\n",
       "\\newcommand{\\Bold}[1]{\\mathbf{#1}}\\verb|Numerical|\\phantom{\\verb!x!}\\verb|result:| 1.8649429051746655\n",
       "\\end{math}"
      ],
      "text/plain": [
       "'Numerical result: ' 1.8649429051746655"
      ]
     },
     "metadata": {},
     "output_type": "display_data"
    }
   ],
   "source": [
    "T = T1\n",
    "z1 = solve(T, z)\n",
    "show(z1)\n",
    "for _z in z1:\n",
    "    _sol = solve(_z.right() == e**(z_sub*t), t)\n",
    "    show(_sol)\n",
    "    for sol in _sol:\n",
    "        show(\"Solution: \", sol)\n",
    "        try:\n",
    "            res = float(sol.right()(H = _H, G = _G, g=_g))\n",
    "            show(\"Numerical result: \", res)\n",
    "        except:\n",
    "            pass"
   ]
  },
  {
   "cell_type": "code",
   "execution_count": 516,
   "metadata": {},
   "outputs": [
    {
     "data": {
      "text/plain": [
       "0.2747014668716603"
      ]
     },
     "execution_count": 516,
     "metadata": {},
     "output_type": "execute_result"
    }
   ],
   "source": [
    "float(-2*sqrt(e^(2*_G*_H) - 1)*e^(_G*_H) + 2*e^(2*_G*_H) - 1)"
   ]
  },
  {
   "cell_type": "markdown",
   "metadata": {},
   "source": [
    "# 5\n",
    "\n",
    "Решить уравнение $x^2(yy''-y'^2)+xyy'=(2xy'-3y)\\sqrt{x^3}$. Найти $y(4)$ для задачи Коши $y(1)=4,y'(1)=8$. Особое решение привести к виду $y(x)=a\\cdot x^{b}\\cdot\\ln{cx}$, где $c$ - константа. Ввести через пробел $y(4)$ для общего решения и $a\\cdot b$ для особого через пробел (если найдено одно введите только одно)."
   ]
  },
  {
   "cell_type": "code",
   "execution_count": 3,
   "metadata": {},
   "outputs": [
    {
     "data": {
      "text/html": [
       "<html><script type=\"math/tex; mode=display\">\\newcommand{\\Bold}[1]{\\mathbf{#1}}-{\\left(\\frac{\\partial}{\\partial x}y\\left(x\\right)^{2} - y\\left(x\\right) \\frac{\\partial^{2}}{(\\partial x)^{2}}y\\left(x\\right)\\right)} x^{2} + x y\\left(x\\right) \\frac{\\partial}{\\partial x}y\\left(x\\right) = \\sqrt{x^{3}} {\\left(2 \\, x \\frac{\\partial}{\\partial x}y\\left(x\\right) - 3 \\, y\\left(x\\right)\\right)}</script></html>"
      ],
      "text/latex": [
       "\\begin{math}\n",
       "\\newcommand{\\Bold}[1]{\\mathbf{#1}}-{\\left(\\frac{\\partial}{\\partial x}y\\left(x\\right)^{2} - y\\left(x\\right) \\frac{\\partial^{2}}{(\\partial x)^{2}}y\\left(x\\right)\\right)} x^{2} + x y\\left(x\\right) \\frac{\\partial}{\\partial x}y\\left(x\\right) = \\sqrt{x^{3}} {\\left(2 \\, x \\frac{\\partial}{\\partial x}y\\left(x\\right) - 3 \\, y\\left(x\\right)\\right)}\n",
       "\\end{math}"
      ],
      "text/plain": [
       "-(diff(y(x), x)^2 - y(x)*diff(y(x), x, x))*x^2 + x*y(x)*diff(y(x), x) == sqrt(x^3)*(2*x*diff(y(x), x) - 3*y(x))"
      ]
     },
     "metadata": {},
     "output_type": "display_data"
    }
   ],
   "source": [
    "x = var('x')\n",
    "y = function('y')(x)\n",
    "de = x^2*(y*diff(y,x,2) - diff(y, x)^2) + x*y*diff(y, x) == (2*x*diff(y, x) - 3*y)*sqrt(x^3)\n",
    "show(de)"
   ]
  },
  {
   "cell_type": "code",
   "execution_count": 14,
   "metadata": {},
   "outputs": [
    {
     "ename": "NotImplementedError",
     "evalue": "Maxima was unable to solve this ODE.",
     "output_type": "error",
     "traceback": [
      "\u001b[0;31m---------------------------------------------------------------------------\u001b[0m",
      "\u001b[0;31mNotImplementedError\u001b[0m                       Traceback (most recent call last)",
      "\u001b[0;32m<ipython-input-14-4f3ec6d06d03>\u001b[0m in \u001b[0;36m<module>\u001b[0;34m\u001b[0m\n\u001b[0;32m----> 1\u001b[0;31m \u001b[0mdesolve\u001b[0m\u001b[0;34m(\u001b[0m\u001b[0mde\u001b[0m\u001b[0;34m,\u001b[0m \u001b[0my\u001b[0m\u001b[0;34m,\u001b[0m \u001b[0mics\u001b[0m\u001b[0;34m=\u001b[0m\u001b[0;34m[\u001b[0m\u001b[0mInteger\u001b[0m\u001b[0;34m(\u001b[0m\u001b[0;36m1\u001b[0m\u001b[0;34m)\u001b[0m\u001b[0;34m,\u001b[0m \u001b[0mInteger\u001b[0m\u001b[0;34m(\u001b[0m\u001b[0;36m4\u001b[0m\u001b[0;34m)\u001b[0m\u001b[0;34m,\u001b[0m \u001b[0mInteger\u001b[0m\u001b[0;34m(\u001b[0m\u001b[0;36m8\u001b[0m\u001b[0;34m)\u001b[0m\u001b[0;34m]\u001b[0m\u001b[0;34m,\u001b[0m \u001b[0mcontrib_ode\u001b[0m\u001b[0;34m=\u001b[0m\u001b[0;32mTrue\u001b[0m\u001b[0;34m,\u001b[0m \u001b[0malgorithm\u001b[0m\u001b[0;34m=\u001b[0m\u001b[0;34m\"maxima\"\u001b[0m\u001b[0;34m)\u001b[0m\u001b[0;34m\u001b[0m\u001b[0;34m\u001b[0m\u001b[0m\n\u001b[0m",
      "\u001b[0;32m/usr/lib/python3.8/site-packages/sage/calculus/desolvers.py\u001b[0m in \u001b[0;36mdesolve\u001b[0;34m(de, dvar, ics, ivar, show_method, contrib_ode, algorithm)\u001b[0m\n\u001b[1;32m    593\u001b[0m             \u001b[0msoln\u001b[0m \u001b[0;34m=\u001b[0m \u001b[0mP\u001b[0m\u001b[0;34m(\u001b[0m\u001b[0mcmd\u001b[0m\u001b[0;34m)\u001b[0m\u001b[0;34m\u001b[0m\u001b[0;34m\u001b[0m\u001b[0m\n\u001b[1;32m    594\u001b[0m             \u001b[0;32mif\u001b[0m \u001b[0mstr\u001b[0m\u001b[0;34m(\u001b[0m\u001b[0msoln\u001b[0m\u001b[0;34m)\u001b[0m\u001b[0;34m.\u001b[0m\u001b[0mstrip\u001b[0m\u001b[0;34m(\u001b[0m\u001b[0;34m)\u001b[0m \u001b[0;34m==\u001b[0m \u001b[0;34m'false'\u001b[0m\u001b[0;34m:\u001b[0m\u001b[0;34m\u001b[0m\u001b[0;34m\u001b[0m\u001b[0m\n\u001b[0;32m--> 595\u001b[0;31m                 \u001b[0;32mraise\u001b[0m \u001b[0mNotImplementedError\u001b[0m\u001b[0;34m(\u001b[0m\u001b[0;34m\"Maxima was unable to solve this ODE.\"\u001b[0m\u001b[0;34m)\u001b[0m\u001b[0;34m\u001b[0m\u001b[0;34m\u001b[0m\u001b[0m\n\u001b[0m\u001b[1;32m    596\u001b[0m         \u001b[0;32melse\u001b[0m\u001b[0;34m:\u001b[0m\u001b[0;34m\u001b[0m\u001b[0;34m\u001b[0m\u001b[0m\n\u001b[1;32m    597\u001b[0m             \u001b[0;32mraise\u001b[0m \u001b[0mNotImplementedError\u001b[0m\u001b[0;34m(\u001b[0m\u001b[0;34m\"Maxima was unable to solve this ODE. Consider to set option contrib_ode to True.\"\u001b[0m\u001b[0;34m)\u001b[0m\u001b[0;34m\u001b[0m\u001b[0;34m\u001b[0m\u001b[0m\n",
      "\u001b[0;31mNotImplementedError\u001b[0m: Maxima was unable to solve this ODE."
     ]
    }
   ],
   "source": [
    "desolve(de, y, ics=[1, 4, 8], contrib_ode=True, algorithm=\"maxima\")"
   ]
  },
  {
   "cell_type": "code",
   "execution_count": null,
   "metadata": {},
   "outputs": [],
   "source": []
  }
 ],
 "metadata": {
  "kernelspec": {
   "display_name": "SageMath 9.2",
   "language": "sage",
   "name": "sagemath"
  },
  "language_info": {
   "codemirror_mode": {
    "name": "ipython",
    "version": 3
   },
   "file_extension": ".py",
   "mimetype": "text/x-python",
   "name": "python",
   "nbconvert_exporter": "python",
   "pygments_lexer": "ipython3",
   "version": "3.8.6"
  }
 },
 "nbformat": 4,
 "nbformat_minor": 4
}
